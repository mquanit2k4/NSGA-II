{
 "cells": [
  {
   "cell_type": "markdown",
   "id": "da8f879f",
   "metadata": {},
   "source": [
    "# Non-dominated Sorting Genetic Algorithm II\n",
    "**Paper:** <https://sci-hub.se/10.1109/4235.996017>"
   ]
  },
  {
   "cell_type": "markdown",
   "id": "3eb4b797",
   "metadata": {},
   "source": [
    "## Problem: ZDT1\n",
    "\n",
    "**Definition**\n",
    "\n",
    "$f_1(x) = x_1$\n",
    "\n",
    "$f_2(x) = g(x) h(f_1(x), g(x))$\n",
    "\n",
    "where\n",
    "\n",
    "$g(x) = 1 + \\frac{9}{N-1} \\sum_{i=2}^N x_i$\n",
    "\n",
    "$h(f_1, g) = 1 - \\sqrt{f_1/g}$\n",
    "\n",
    "$0\\leq x_i \\leq 1 \\quad i=1,...,N$\n",
    "\n",
    "**Optimum**\n",
    "\n",
    "$0\\leq x_1^*\\leq 1 \\quad\\&\\quad x_i^*=0~\\forall ~ i=2,...,N$\n",
    "\n",
    "## Task: \n",
    "- Complete the selection module!\n",
    "- Code doesn't need to be paper accurate, just makes it work!"
   ]
  },
  {
   "cell_type": "code",
   "execution_count": 14,
   "id": "563e1d2f",
   "metadata": {},
   "outputs": [],
   "source": [
    "import numpy as np\n",
    "import matplotlib.pyplot as plt\n",
    "from copy import deepcopy\n",
    "from collections import defaultdict"
   ]
  },
  {
   "cell_type": "markdown",
   "id": "e956081c",
   "metadata": {},
   "source": [
    "### Fitness"
   ]
  },
  {
   "cell_type": "code",
   "execution_count": 15,
   "id": "2a0c7501",
   "metadata": {},
   "outputs": [],
   "source": [
    "# Define the fitness functions: ZDT1\n",
    "def get_fitness(x: np.ndarray):\n",
    "    n = x.size\n",
    "    f1 = x[0]\n",
    "    g = 1 + 9 / (n - 1) * np.sum(x[1:])\n",
    "    h = 1 - (f1 / g)**2\n",
    "    f2 = g * h\n",
    "    return f1, f2"
   ]
  },
  {
   "cell_type": "markdown",
   "id": "e0f839c4",
   "metadata": {},
   "source": [
    "### Individual"
   ]
  },
  {
   "cell_type": "code",
   "execution_count": 16,
   "id": "3e59b29e",
   "metadata": {},
   "outputs": [],
   "source": [
    "class Individual:\n",
    "    def __init__(self, D, LB, UB):\n",
    "        self.D = D   # problem dimensions\n",
    "        self.LB = LB # lowerbound\n",
    "        self.UB = UB # upperbound\n",
    "        \n",
    "        self.x = np.zeros(D) # vector of D dimensions\n",
    "        self.fitnesses = None\n",
    "    \n",
    "    def random_gen(self):\n",
    "        self.x = np.random.uniform(self.LB, self.UB, self.D)\n",
    "        \n",
    "    def evaluate(self):\n",
    "        self.x = np.clip(self.x, self.LB, self.UB)\n",
    "        self.fitnesses = get_fitness(self.x)\n",
    "        \n",
    "    def str_fitness(self):\n",
    "        return '(' + ', '.join(['%.3f' % f for f in self.fitnesses]) + ')'"
   ]
  },
  {
   "cell_type": "markdown",
   "id": "ea5bcbf0",
   "metadata": {},
   "source": [
    "## Genetic operators"
   ]
  },
  {
   "cell_type": "markdown",
   "id": "a9e17e24",
   "metadata": {},
   "source": [
    "### SBX Crossover"
   ]
  },
  {
   "cell_type": "code",
   "execution_count": 17,
   "id": "84d5f43e",
   "metadata": {},
   "outputs": [],
   "source": [
    "def crossover(p1: Individual, p2: Individual, eta=1.0):\n",
    "    u = np.random.random();\n",
    "    if u < 0.5:\n",
    "        beta = (2 * u) ** (1 / (eta + 1))\n",
    "    else:\n",
    "        beta = (0.5 / (1-u)) ** (1 / (eta + 1))\n",
    "    c1 = Individual(p1.D, p1.LB, p1.UB)\n",
    "    c2 = Individual(p1.D, p1.LB, p1.UB)\n",
    "    c1.x = 0.5 * (p1.x + p2.x) - 0.5 * beta * abs(p1.x - p2.x)\n",
    "    c2.x = 0.5 * (p1.x + p2.x) + 0.5 * beta * abs(p1.x - p2.x)\n",
    "    return c1, c2"
   ]
  },
  {
   "cell_type": "markdown",
   "id": "e93968c2",
   "metadata": {},
   "source": [
    "### Polynomial Mutation"
   ]
  },
  {
   "cell_type": "code",
   "execution_count": 18,
   "id": "d70edeef",
   "metadata": {},
   "outputs": [],
   "source": [
    "def mutate(p: Individual, eta=1.0, lim=0.5):\n",
    "    u = np.random.random();\n",
    "    if u < 0.5:\n",
    "        delta = (2 * u) ** (1 / (eta + 1)) - 1\n",
    "    else:\n",
    "        delta = 1 - (2 * (1 - u)) ** (1 / (eta + 1))\n",
    "    \n",
    "    mut_range = lim * (p.UB - p.LB)\n",
    "#     c = Individual(p.D, p.LB, p.UB)\n",
    "    p.x += delta * mut_range"
   ]
  },
  {
   "cell_type": "markdown",
   "id": "99f4b071",
   "metadata": {},
   "source": [
    "## NSGA-II Selection"
   ]
  },
  {
   "cell_type": "markdown",
   "id": "98372758",
   "metadata": {},
   "source": [
    "### Pareto dominance"
   ]
  },
  {
   "cell_type": "code",
   "execution_count": 19,
   "id": "2a8fd818",
   "metadata": {},
   "outputs": [],
   "source": [
    "def dominate(p1: Individual, p2: Individual):\n",
    "    better = False\n",
    "    for k in range(len(p1.fitnesses)):\n",
    "        if p1.fitnesses[k] > p2.fitnesses[k]:\n",
    "            return False\n",
    "        if p1.fitnesses[k] < p2.fitnesses[k]:\n",
    "            better = True\n",
    "    return better"
   ]
  },
  {
   "cell_type": "markdown",
   "id": "63d4c7aa",
   "metadata": {},
   "source": [
    "### Fast non-dominated sorting"
   ]
  },
  {
   "cell_type": "code",
   "execution_count": 20,
   "id": "5ba979f1",
   "metadata": {},
   "outputs": [],
   "source": [
    "def fast_non_dominated_sorting(pop: list):\n",
    "    pn = np.zeros(len(pop), dtype=int)\n",
    "    pS = defaultdict(list)\n",
    "    for i, p in enumerate(pop):\n",
    "        for j, q in enumerate(pop):\n",
    "            if i == j: \n",
    "                continue\n",
    "            if dominate(p, q):\n",
    "                pn[j] += 1\n",
    "                pS[i].append(j)\n",
    "                \n",
    "    paretos = [[i for i in range(len(pop)) if pn[i] == 0]]\n",
    "    while True:\n",
    "        next_pareto = []\n",
    "        for i in paretos[-1]:\n",
    "            for j in pS[i]:\n",
    "                pn[j] -= 1\n",
    "                if pn[j] == 0:\n",
    "                    next_pareto.append(j)\n",
    "        if len(next_pareto) == 0:\n",
    "            break\n",
    "        paretos.append(next_pareto)\n",
    "        \n",
    "    real_paretos = []\n",
    "    for pr in paretos:\n",
    "        real_paretos.append([pop[idx] for idx in pr])\n",
    "#         print('Pareto:', [p.str_fitness() for p in real_paretos[-1]])\n",
    "    \n",
    "    return real_paretos"
   ]
  },
  {
   "cell_type": "markdown",
   "id": "c224e0d7",
   "metadata": {},
   "source": [
    "### Crowding distance"
   ]
  },
  {
   "cell_type": "code",
   "execution_count": 21,
   "id": "43e6aabe",
   "metadata": {},
   "outputs": [],
   "source": [
    "def assign_crowding_distance(pop: list):\n",
    "    assert len(pop) > 1\n",
    "    indices = list(range(len(pop)))\n",
    "    I = np.zeros(len(pop), dtype=float)\n",
    "    for k in range(len(pop[0].fitnesses)):\n",
    "        fk = [p.fitnesses[k] for p in pop]\n",
    "        indices = np.argsort(fk)\n",
    "        \n",
    "        lim = fk[indices[-1]] - fk[indices[0]]\n",
    "        if lim < 1e-6:\n",
    "            return np.zeros(len(pop), dtype=float)\n",
    "        \n",
    "        I[indices[0]] = I[indices[-1]] = 1e9\n",
    "        for it in range(1, indices.size - 1):\n",
    "            I[indices[it]] += (fk[indices[it + 1]] - fk[indices[it - 1]]) / lim\n",
    "    return I"
   ]
  },
  {
   "cell_type": "markdown",
   "id": "3e744137",
   "metadata": {},
   "source": [
    "### Selection"
   ]
  },
  {
   "cell_type": "code",
   "execution_count": 22,
   "id": "9431fb0a",
   "metadata": {},
   "outputs": [],
   "source": [
    "def survival_selection(pop: list, pop_size: int):\n",
    "    if len(pop) <= pop_size:\n",
    "        return pop\n",
    "    \n",
    "    survivors = []\n",
    "    paretos = fast_non_dominated_sorting(pop)\n",
    "    for pareto in paretos:\n",
    "        if len(survivors) + len(pareto) <= pop_size:\n",
    "            survivors.extend(pareto)\n",
    "            if len(survivors) == pop_size:\n",
    "                break\n",
    "        else:\n",
    "            cd = assign_crowding_distance(pareto)\n",
    "            indices = np.argsort(cd)[::-1]\n",
    "            partial_pareto = [pareto[idx] for idx in indices[:(pop_size - len(survivors))]]\n",
    "            survivors.extend(partial_pareto)\n",
    "            break\n",
    "\n",
    "    return survivors"
   ]
  },
  {
   "cell_type": "markdown",
   "id": "bfbc5b3d",
   "metadata": {},
   "source": [
    "## NSGA-II"
   ]
  },
  {
   "cell_type": "code",
   "execution_count": 23,
   "id": "edc8fdee",
   "metadata": {},
   "outputs": [],
   "source": [
    "def build_Pareto(pop: list):\n",
    "    pareto = []\n",
    "    for p in pop:\n",
    "        for q in pareto:\n",
    "            if dominate(q, p):\n",
    "                break\n",
    "        else:\n",
    "            pareto = [q for q in pareto if not dominate(p, q)] + [p]\n",
    "    return pareto"
   ]
  },
  {
   "cell_type": "code",
   "execution_count": 24,
   "id": "ede80337",
   "metadata": {},
   "outputs": [],
   "source": [
    "def evolve(D, LB, UB, pop_size: int, max_gen: int, crossover_rate=0.7, mutation_rate=0.1):\n",
    "    # init\n",
    "    population = []\n",
    "    for _ in range(pop_size):\n",
    "        p = Individual(D, LB, UB)\n",
    "        p.random_gen()\n",
    "        p.evaluate()\n",
    "        population.append(p)\n",
    "        \n",
    "    # main loop\n",
    "    for t in range(max_gen):\n",
    "        # crossover\n",
    "        offspring = []\n",
    "        while len(offspring) < max_gen:\n",
    "            parent1 = population[np.random.randint(0, pop_size - 1)]\n",
    "            parent2 = population[np.random.randint(0, pop_size - 1)]\n",
    "\n",
    "            if np.random.random() < crossover_rate:\n",
    "                children = crossover(parent1, parent2)\n",
    "                offspring.extend(children)\n",
    "            else:\n",
    "                offspring.extend([deepcopy(parent1), deepcopy(parent2)])\n",
    "        \n",
    "        # mutate\n",
    "        for child in offspring:\n",
    "            if np.random.random() < mutation_rate:\n",
    "                mutate(child)\n",
    "                \n",
    "        # evaluate\n",
    "        for child in offspring:\n",
    "            child.evaluate()\n",
    "            \n",
    "        # selection\n",
    "        population = survival_selection(population + offspring, pop_size)\n",
    "#         if t % 10 == 0:\n",
    "#             print(f'Populaton {t}: {[p.str_fitness() for p in population]}')\n",
    "        \n",
    "    \n",
    "    # Pareto output\n",
    "    pareto = build_Pareto(population)\n",
    "    return pareto"
   ]
  },
  {
   "cell_type": "markdown",
   "id": "b4053da3",
   "metadata": {},
   "source": [
    "## Simulation"
   ]
  },
  {
   "cell_type": "code",
   "execution_count": 25,
   "id": "2a4f5a76",
   "metadata": {},
   "outputs": [],
   "source": [
    "# Problem\n",
    "D = 10\n",
    "LB = 0\n",
    "UB = 1\n",
    "\n",
    "# algorithm parameters\n",
    "pop_size = 200\n",
    "max_gen = 100\n",
    "\n",
    "pareto = evolve(D, LB, UB, pop_size, max_gen)\n",
    "# print('Final Pareto:')\n",
    "# [p.str_fitness() for p in pareto]"
   ]
  },
  {
   "cell_type": "code",
   "execution_count": 26,
   "id": "2e057e14",
   "metadata": {},
   "outputs": [
    {
     "data": {
      "image/png": "[encoded data removed]",
      "text/plain": [
       "<Figure size 640x480 with 1 Axes>"
      ]
     },
     "metadata": {},
     "output_type": "display_data"
    }
   ],
   "source": [
    "plt.cla()\n",
    "plt.grid()\n",
    "plt.title('NSGA-II\\'s final Pareto', fontsize=20)\n",
    "plt.xlabel('$f_1(x)$', fontsize=18)\n",
    "plt.ylabel('$f_2(x)$', fontsize=18)\n",
    "plt.xticks(fontsize=14)\n",
    "plt.yticks(fontsize=14)\n",
    "\n",
    "# NSGA-II\n",
    "front = [p.fitnesses for p in pareto]\n",
    "front.sort()\n",
    "plt.plot([p[0] for p in front], [p[1] for p in front], label='NSGA-II', marker='o', linestyle='None')\n",
    "\n",
    "# Optimal Pareto\n",
    "density = 1000\n",
    "x = np.zeros([density, D], dtype=float)\n",
    "x[:, 0] = np.linspace(0, 1, 1000)\n",
    "plt.plot(x[:, 0], [get_fitness(xx)[1] for xx in x], color='red', label='Optimal')\n",
    "\n",
    "plt.legend(bbox_to_anchor=(0, 0), loc='lower left', borderaxespad=0.1, fontsize = 12)\n",
    "plt.show()"
   ]
  },
  {
   "cell_type": "markdown",
   "id": "305557c0",
   "metadata": {},
   "source": [
    "# Multi-Objective Evolutionary Algorithm based on Decomposition (MOEA/D)\n",
    "**Paper:** <https://sci-hub.se/10.1109/tevc.2007.892759>"
   ]
  },
  {
   "cell_type": "markdown",
   "id": "2eb89788",
   "metadata": {},
   "source": [
    "## No exercise yet!!! (Yay)"
   ]
  },
  {
   "cell_type": "code",
   "execution_count": null,
   "id": "37ae1b04",
   "metadata": {},
   "outputs": [],
   "source": []
  }
 ],
 "metadata": {
  "kernelspec": {
   "display_name": "Python 3 (ipykernel)",
   "language": "python",
   "name": "python3"
  },
  "language_info": {
   "codemirror_mode": {
    "name": "ipython",
    "version": 3
   },
   "file_extension": ".py",
   "mimetype": "text/x-python",
   "name": "python",
   "nbconvert_exporter": "python",
   "pygments_lexer": "ipython3",
   "version": "3.9.13"
  }
 },
 "nbformat": 4,
 "nbformat_minor": 5
}
